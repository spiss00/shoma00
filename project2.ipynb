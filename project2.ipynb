{
 "cells": [
  {
   "cell_type": "code",
   "execution_count": 42,
   "metadata": {},
   "outputs": [
    {
     "name": "stdout",
     "output_type": "stream",
     "text": [
      "    countrycode  Growth_Rate  TFP_Growth  Capital_Deepning  TFP_Share  \\\n",
      "29          AUS     1.442076    1.310546      1.315303e-01   0.908791   \n",
      "59          AUT     1.416746    1.226935      1.898111e-01   0.866023   \n",
      "89          BEL     1.586301    1.138507      4.477937e-01   0.717712   \n",
      "119         CAN     1.308444    1.112352      1.960919e-01   0.850134   \n",
      "149         DEU     1.779903    1.370320      4.095834e-01   0.769884   \n",
      "179         DNK     1.791319    1.243019      5.482994e-01   0.693913   \n",
      "209         ESP     0.974853    0.915353      5.949982e-02   0.938965   \n",
      "239         FIN     1.361195    1.328786      3.240827e-02   0.976191   \n",
      "269         FRA     2.531614    1.151307      1.380307e+00   0.454772   \n",
      "299         GBR     3.126863    1.246369      1.880494e+00   0.398600   \n",
      "329         GRC    24.421259    0.836076      2.358518e+01   0.034236   \n",
      "359         IRL     1.927452    1.927452      2.760571e-08   1.000000   \n",
      "389         ISL     2.700380    1.479706      1.220674e+00   0.547962   \n",
      "419         ITA     0.910544    0.797879      1.126653e-01   0.876266   \n",
      "449         JPN     1.860894    1.135914      7.249799e-01   0.610413   \n",
      "479         NLD     1.271800    1.131478      1.403217e-01   0.889667   \n",
      "509         NOR     1.908598    1.258664      6.499338e-01   0.659470   \n",
      "539         NZL     1.870685    1.277385      5.933000e-01   0.682844   \n",
      "569         PRT     1.118246    0.939224      1.790220e-01   0.839908   \n",
      "599         SWE     1.844105    1.661550      1.825553e-01   0.901006   \n",
      "629         USA     1.837839    1.364673      4.731658e-01   0.742542   \n",
      "\n",
      "     Capital_Share  \n",
      "29    9.120897e-02  \n",
      "59    1.339768e-01  \n",
      "89    2.822880e-01  \n",
      "119   1.498665e-01  \n",
      "149   2.301155e-01  \n",
      "179   3.060870e-01  \n",
      "209   6.103466e-02  \n",
      "239   2.380870e-02  \n",
      "269   5.452281e-01  \n",
      "299   6.013995e-01  \n",
      "329   9.657644e-01  \n",
      "359   1.432239e-08  \n",
      "389   4.520379e-01  \n",
      "419   1.237340e-01  \n",
      "449   3.895869e-01  \n",
      "479   1.103332e-01  \n",
      "509   3.405295e-01  \n",
      "539   3.171565e-01  \n",
      "569   1.600918e-01  \n",
      "599   9.899396e-02  \n",
      "629   2.574578e-01  \n",
      "Mean of 'Growth_Rate': 2.80910062789917\n",
      "Mean of 'TFP_Growth': 1.23111891746521\n",
      "Mean of 'Capital_Deepning': 1.5779820680618286\n",
      "Mean of 'TFP_Share': 0.7313952445983887\n",
      "Mean of 'Capital_Share': 0.26860469579696655\n"
     ]
    },
    {
     "name": "stderr",
     "output_type": "stream",
     "text": [
      "C:\\Users\\shoma\\AppData\\Local\\Temp\\ipykernel_18908\\3572613054.py:14: DeprecationWarning: DataFrameGroupBy.apply operated on the grouping columns. This behavior is deprecated, and in a future version of pandas the grouping columns will be excluded from the operation. Either pass `include_groups=False` to exclude the groupings or explicitly select the grouping columns after groupby to silence this warning.\n",
      "  data = data.groupby('countrycode').apply(lambda x: x.assign(\n"
     ]
    }
   ],
   "source": [
    "import pandas as pd\n",
    "import matplotlib.pyplot as plt\n",
    "import numpy as np\n",
    "\n",
    "pwt100 = pd.read_stata('https://www.rug.nl/ggdc/docs/pwt100.dta')\n",
    "data = pwt100.loc[pwt100['country'].isin(['Australia', 'Austria', 'Belgium', 'Canada', 'Denmark', 'Finland', 'France', 'Germany', 'Greece', 'Iceland', 'Ireland', 'Italy', 'Japan', 'Netherlands', 'New Zealand', 'Norway', 'Portugal', 'Spain', 'Sweden', 'United Kingdom', 'United States'])][['year', 'countrycode', 'rgdpna', 'rkna', 'pop', 'emp', 'avh', 'labsh', 'rtfpna']]\n",
    "data = data.loc[(data['year'] >= 1990) & (data['year'] <= 2019)].dropna()\n",
    "\n",
    "data['alpha'] = 1 - data['labsh']\n",
    "data['y_n'] = data['rgdpna'] / data['emp']\n",
    "data['hours'] = data['emp'] * data['avh']\n",
    "data['tfp_term'] = data['rtfpna'] ** (1 / (1 - data['alpha']))\n",
    "data['cap_term'] = (data['rkna'] / data['rgdpna']) ** (data['alpha'] / (1 - data['alpha']))\n",
    "data = data.groupby('countrycode').apply(lambda x: x.assign(\n",
    "    Growth_Rate=x['tfp_term'] / x['tfp_term'].iloc[0]+x['cap_term'] / x['cap_term'].iloc[0],\n",
    "    TFP_Growth=x['tfp_term'] / x['tfp_term'].iloc[0],\n",
    "    Capital_Deepning=x['cap_term'] / x['cap_term'].iloc[0],\n",
    "    TFP_Share=(x['tfp_term'] / x['tfp_term'].iloc[0])/( x['tfp_term'] / x['tfp_term'].iloc[0]+x['cap_term'] / x['cap_term'].iloc[0]),\n",
    "    Capital_Share=(x['cap_term'] / x['cap_term'].iloc[0])/( x['tfp_term'] / x['tfp_term'].iloc[0]+x['cap_term'] / x['cap_term'].iloc[0]),\n",
    "\n",
    "\n",
    "    \n",
    ")).reset_index(drop=True).dropna()\n",
    "\n",
    "data1 = data.iloc[29::30].drop(columns=['year', 'rgdpna', 'rkna', 'pop', 'emp', 'avh', 'labsh', 'rtfpna', 'alpha', 'y_n', 'hours', 'tfp_term', 'cap_term'])\n",
    "\n",
    "print(data1)\n",
    "\n",
    "for column in data1.columns:\n",
    "    if pd.api.types.is_numeric_dtype(data1[column]):\n",
    "        mean_value = data1[column].mean()\n",
    "        print(f\"Mean of '{column}': {mean_value}\")\n",
    "              \n"
   ]
  },
  {
   "cell_type": "code",
   "execution_count": null,
   "metadata": {},
   "outputs": [],
   "source": []
  },
  {
   "cell_type": "code",
   "execution_count": null,
   "metadata": {},
   "outputs": [],
   "source": []
  },
  {
   "cell_type": "code",
   "execution_count": null,
   "metadata": {},
   "outputs": [],
   "source": []
  },
  {
   "cell_type": "code",
   "execution_count": null,
   "metadata": {},
   "outputs": [],
   "source": []
  },
  {
   "cell_type": "code",
   "execution_count": null,
   "metadata": {},
   "outputs": [],
   "source": []
  },
  {
   "cell_type": "code",
   "execution_count": null,
   "metadata": {},
   "outputs": [],
   "source": []
  },
  {
   "cell_type": "code",
   "execution_count": null,
   "metadata": {},
   "outputs": [],
   "source": []
  },
  {
   "cell_type": "code",
   "execution_count": null,
   "metadata": {},
   "outputs": [],
   "source": []
  },
  {
   "cell_type": "code",
   "execution_count": null,
   "metadata": {},
   "outputs": [],
   "source": []
  }
 ],
 "metadata": {
  "kernelspec": {
   "display_name": "Python 3",
   "language": "python",
   "name": "python3"
  },
  "language_info": {
   "codemirror_mode": {
    "name": "ipython",
    "version": 3
   },
   "file_extension": ".py",
   "mimetype": "text/x-python",
   "name": "python",
   "nbconvert_exporter": "python",
   "pygments_lexer": "ipython3",
   "version": "3.11.9"
  }
 },
 "nbformat": 4,
 "nbformat_minor": 2
}
